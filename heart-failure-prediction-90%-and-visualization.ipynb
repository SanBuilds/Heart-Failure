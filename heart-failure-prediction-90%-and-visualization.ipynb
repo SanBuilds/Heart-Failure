{
 "cells": [
  {
   "cell_type": "code",
   "execution_count": 1,
   "metadata": {
    "execution": {
     "iopub.execute_input": "2020-08-20T17:54:16.078441Z",
     "iopub.status.busy": "2020-08-20T17:54:16.077568Z",
     "iopub.status.idle": "2020-08-20T17:54:17.086909Z",
     "shell.execute_reply": "2020-08-20T17:54:17.086042Z"
    },
    "papermill": {
     "duration": 1.037724,
     "end_time": "2020-08-20T17:54:17.087043",
     "exception": false,
     "start_time": "2020-08-20T17:54:16.049319",
     "status": "completed"
    },
    "tags": []
   },
   "outputs": [],
   "source": [
    "# Importing the libraries\n",
    "\n",
    "import pandas as pd\n",
    "import numpy as np\n",
    "import matplotlib.pyplot as plt\n",
    "import seaborn as sns"
   ]
  },
  {
   "cell_type": "code",
   "execution_count": 2,
   "metadata": {
    "execution": {
     "iopub.execute_input": "2020-08-20T17:54:17.140059Z",
     "iopub.status.busy": "2020-08-20T17:54:17.139282Z",
     "iopub.status.idle": "2020-08-20T17:54:17.151052Z",
     "shell.execute_reply": "2020-08-20T17:54:17.150323Z"
    },
    "papermill": {
     "duration": 0.043079,
     "end_time": "2020-08-20T17:54:17.151189",
     "exception": false,
     "start_time": "2020-08-20T17:54:17.108110",
     "status": "completed"
    },
    "tags": []
   },
   "outputs": [
    {
     "ename": "FileNotFoundError",
     "evalue": "[Errno 2] File b'../input/heart-failure-clinical-data/heart_failure_clinical_records_dataset.csv' does not exist: b'../input/heart-failure-clinical-data/heart_failure_clinical_records_dataset.csv'",
     "output_type": "error",
     "traceback": [
      "\u001b[1;31m---------------------------------------------------------------------------\u001b[0m",
      "\u001b[1;31mFileNotFoundError\u001b[0m                         Traceback (most recent call last)",
      "\u001b[1;32m<ipython-input-2-20c8fb01b26c>\u001b[0m in \u001b[0;36m<module>\u001b[1;34m\u001b[0m\n\u001b[0;32m      1\u001b[0m \u001b[1;31m# Importing the dataset\u001b[0m\u001b[1;33m\u001b[0m\u001b[1;33m\u001b[0m\u001b[1;33m\u001b[0m\u001b[0m\n\u001b[0;32m      2\u001b[0m \u001b[1;33m\u001b[0m\u001b[0m\n\u001b[1;32m----> 3\u001b[1;33m \u001b[0mdataset\u001b[0m \u001b[1;33m=\u001b[0m \u001b[0mpd\u001b[0m\u001b[1;33m.\u001b[0m\u001b[0mread_csv\u001b[0m\u001b[1;33m(\u001b[0m\u001b[1;34m'../input/heart-failure-clinical-data/heart_failure_clinical_records_dataset.csv'\u001b[0m\u001b[1;33m)\u001b[0m\u001b[1;33m\u001b[0m\u001b[1;33m\u001b[0m\u001b[0m\n\u001b[0m",
      "\u001b[1;32m~\\Anaconda3\\lib\\site-packages\\pandas\\io\\parsers.py\u001b[0m in \u001b[0;36mparser_f\u001b[1;34m(filepath_or_buffer, sep, delimiter, header, names, index_col, usecols, squeeze, prefix, mangle_dupe_cols, dtype, engine, converters, true_values, false_values, skipinitialspace, skiprows, skipfooter, nrows, na_values, keep_default_na, na_filter, verbose, skip_blank_lines, parse_dates, infer_datetime_format, keep_date_col, date_parser, dayfirst, cache_dates, iterator, chunksize, compression, thousands, decimal, lineterminator, quotechar, quoting, doublequote, escapechar, comment, encoding, dialect, error_bad_lines, warn_bad_lines, delim_whitespace, low_memory, memory_map, float_precision)\u001b[0m\n\u001b[0;32m    683\u001b[0m         )\n\u001b[0;32m    684\u001b[0m \u001b[1;33m\u001b[0m\u001b[0m\n\u001b[1;32m--> 685\u001b[1;33m         \u001b[1;32mreturn\u001b[0m \u001b[0m_read\u001b[0m\u001b[1;33m(\u001b[0m\u001b[0mfilepath_or_buffer\u001b[0m\u001b[1;33m,\u001b[0m \u001b[0mkwds\u001b[0m\u001b[1;33m)\u001b[0m\u001b[1;33m\u001b[0m\u001b[1;33m\u001b[0m\u001b[0m\n\u001b[0m\u001b[0;32m    686\u001b[0m \u001b[1;33m\u001b[0m\u001b[0m\n\u001b[0;32m    687\u001b[0m     \u001b[0mparser_f\u001b[0m\u001b[1;33m.\u001b[0m\u001b[0m__name__\u001b[0m \u001b[1;33m=\u001b[0m \u001b[0mname\u001b[0m\u001b[1;33m\u001b[0m\u001b[1;33m\u001b[0m\u001b[0m\n",
      "\u001b[1;32m~\\Anaconda3\\lib\\site-packages\\pandas\\io\\parsers.py\u001b[0m in \u001b[0;36m_read\u001b[1;34m(filepath_or_buffer, kwds)\u001b[0m\n\u001b[0;32m    455\u001b[0m \u001b[1;33m\u001b[0m\u001b[0m\n\u001b[0;32m    456\u001b[0m     \u001b[1;31m# Create the parser.\u001b[0m\u001b[1;33m\u001b[0m\u001b[1;33m\u001b[0m\u001b[1;33m\u001b[0m\u001b[0m\n\u001b[1;32m--> 457\u001b[1;33m     \u001b[0mparser\u001b[0m \u001b[1;33m=\u001b[0m \u001b[0mTextFileReader\u001b[0m\u001b[1;33m(\u001b[0m\u001b[0mfp_or_buf\u001b[0m\u001b[1;33m,\u001b[0m \u001b[1;33m**\u001b[0m\u001b[0mkwds\u001b[0m\u001b[1;33m)\u001b[0m\u001b[1;33m\u001b[0m\u001b[1;33m\u001b[0m\u001b[0m\n\u001b[0m\u001b[0;32m    458\u001b[0m \u001b[1;33m\u001b[0m\u001b[0m\n\u001b[0;32m    459\u001b[0m     \u001b[1;32mif\u001b[0m \u001b[0mchunksize\u001b[0m \u001b[1;32mor\u001b[0m \u001b[0miterator\u001b[0m\u001b[1;33m:\u001b[0m\u001b[1;33m\u001b[0m\u001b[1;33m\u001b[0m\u001b[0m\n",
      "\u001b[1;32m~\\Anaconda3\\lib\\site-packages\\pandas\\io\\parsers.py\u001b[0m in \u001b[0;36m__init__\u001b[1;34m(self, f, engine, **kwds)\u001b[0m\n\u001b[0;32m    893\u001b[0m             \u001b[0mself\u001b[0m\u001b[1;33m.\u001b[0m\u001b[0moptions\u001b[0m\u001b[1;33m[\u001b[0m\u001b[1;34m\"has_index_names\"\u001b[0m\u001b[1;33m]\u001b[0m \u001b[1;33m=\u001b[0m \u001b[0mkwds\u001b[0m\u001b[1;33m[\u001b[0m\u001b[1;34m\"has_index_names\"\u001b[0m\u001b[1;33m]\u001b[0m\u001b[1;33m\u001b[0m\u001b[1;33m\u001b[0m\u001b[0m\n\u001b[0;32m    894\u001b[0m \u001b[1;33m\u001b[0m\u001b[0m\n\u001b[1;32m--> 895\u001b[1;33m         \u001b[0mself\u001b[0m\u001b[1;33m.\u001b[0m\u001b[0m_make_engine\u001b[0m\u001b[1;33m(\u001b[0m\u001b[0mself\u001b[0m\u001b[1;33m.\u001b[0m\u001b[0mengine\u001b[0m\u001b[1;33m)\u001b[0m\u001b[1;33m\u001b[0m\u001b[1;33m\u001b[0m\u001b[0m\n\u001b[0m\u001b[0;32m    896\u001b[0m \u001b[1;33m\u001b[0m\u001b[0m\n\u001b[0;32m    897\u001b[0m     \u001b[1;32mdef\u001b[0m \u001b[0mclose\u001b[0m\u001b[1;33m(\u001b[0m\u001b[0mself\u001b[0m\u001b[1;33m)\u001b[0m\u001b[1;33m:\u001b[0m\u001b[1;33m\u001b[0m\u001b[1;33m\u001b[0m\u001b[0m\n",
      "\u001b[1;32m~\\Anaconda3\\lib\\site-packages\\pandas\\io\\parsers.py\u001b[0m in \u001b[0;36m_make_engine\u001b[1;34m(self, engine)\u001b[0m\n\u001b[0;32m   1133\u001b[0m     \u001b[1;32mdef\u001b[0m \u001b[0m_make_engine\u001b[0m\u001b[1;33m(\u001b[0m\u001b[0mself\u001b[0m\u001b[1;33m,\u001b[0m \u001b[0mengine\u001b[0m\u001b[1;33m=\u001b[0m\u001b[1;34m\"c\"\u001b[0m\u001b[1;33m)\u001b[0m\u001b[1;33m:\u001b[0m\u001b[1;33m\u001b[0m\u001b[1;33m\u001b[0m\u001b[0m\n\u001b[0;32m   1134\u001b[0m         \u001b[1;32mif\u001b[0m \u001b[0mengine\u001b[0m \u001b[1;33m==\u001b[0m \u001b[1;34m\"c\"\u001b[0m\u001b[1;33m:\u001b[0m\u001b[1;33m\u001b[0m\u001b[1;33m\u001b[0m\u001b[0m\n\u001b[1;32m-> 1135\u001b[1;33m             \u001b[0mself\u001b[0m\u001b[1;33m.\u001b[0m\u001b[0m_engine\u001b[0m \u001b[1;33m=\u001b[0m \u001b[0mCParserWrapper\u001b[0m\u001b[1;33m(\u001b[0m\u001b[0mself\u001b[0m\u001b[1;33m.\u001b[0m\u001b[0mf\u001b[0m\u001b[1;33m,\u001b[0m \u001b[1;33m**\u001b[0m\u001b[0mself\u001b[0m\u001b[1;33m.\u001b[0m\u001b[0moptions\u001b[0m\u001b[1;33m)\u001b[0m\u001b[1;33m\u001b[0m\u001b[1;33m\u001b[0m\u001b[0m\n\u001b[0m\u001b[0;32m   1136\u001b[0m         \u001b[1;32melse\u001b[0m\u001b[1;33m:\u001b[0m\u001b[1;33m\u001b[0m\u001b[1;33m\u001b[0m\u001b[0m\n\u001b[0;32m   1137\u001b[0m             \u001b[1;32mif\u001b[0m \u001b[0mengine\u001b[0m \u001b[1;33m==\u001b[0m \u001b[1;34m\"python\"\u001b[0m\u001b[1;33m:\u001b[0m\u001b[1;33m\u001b[0m\u001b[1;33m\u001b[0m\u001b[0m\n",
      "\u001b[1;32m~\\Anaconda3\\lib\\site-packages\\pandas\\io\\parsers.py\u001b[0m in \u001b[0;36m__init__\u001b[1;34m(self, src, **kwds)\u001b[0m\n\u001b[0;32m   1915\u001b[0m         \u001b[0mkwds\u001b[0m\u001b[1;33m[\u001b[0m\u001b[1;34m\"usecols\"\u001b[0m\u001b[1;33m]\u001b[0m \u001b[1;33m=\u001b[0m \u001b[0mself\u001b[0m\u001b[1;33m.\u001b[0m\u001b[0musecols\u001b[0m\u001b[1;33m\u001b[0m\u001b[1;33m\u001b[0m\u001b[0m\n\u001b[0;32m   1916\u001b[0m \u001b[1;33m\u001b[0m\u001b[0m\n\u001b[1;32m-> 1917\u001b[1;33m         \u001b[0mself\u001b[0m\u001b[1;33m.\u001b[0m\u001b[0m_reader\u001b[0m \u001b[1;33m=\u001b[0m \u001b[0mparsers\u001b[0m\u001b[1;33m.\u001b[0m\u001b[0mTextReader\u001b[0m\u001b[1;33m(\u001b[0m\u001b[0msrc\u001b[0m\u001b[1;33m,\u001b[0m \u001b[1;33m**\u001b[0m\u001b[0mkwds\u001b[0m\u001b[1;33m)\u001b[0m\u001b[1;33m\u001b[0m\u001b[1;33m\u001b[0m\u001b[0m\n\u001b[0m\u001b[0;32m   1918\u001b[0m         \u001b[0mself\u001b[0m\u001b[1;33m.\u001b[0m\u001b[0munnamed_cols\u001b[0m \u001b[1;33m=\u001b[0m \u001b[0mself\u001b[0m\u001b[1;33m.\u001b[0m\u001b[0m_reader\u001b[0m\u001b[1;33m.\u001b[0m\u001b[0munnamed_cols\u001b[0m\u001b[1;33m\u001b[0m\u001b[1;33m\u001b[0m\u001b[0m\n\u001b[0;32m   1919\u001b[0m \u001b[1;33m\u001b[0m\u001b[0m\n",
      "\u001b[1;32mpandas\\_libs\\parsers.pyx\u001b[0m in \u001b[0;36mpandas._libs.parsers.TextReader.__cinit__\u001b[1;34m()\u001b[0m\n",
      "\u001b[1;32mpandas\\_libs\\parsers.pyx\u001b[0m in \u001b[0;36mpandas._libs.parsers.TextReader._setup_parser_source\u001b[1;34m()\u001b[0m\n",
      "\u001b[1;31mFileNotFoundError\u001b[0m: [Errno 2] File b'../input/heart-failure-clinical-data/heart_failure_clinical_records_dataset.csv' does not exist: b'../input/heart-failure-clinical-data/heart_failure_clinical_records_dataset.csv'"
     ]
    }
   ],
   "source": [
    "# Importing the dataset\n",
    "\n",
    "dataset = pd.read_csv('../input/heart-failure-clinical-data/heart_failure_clinical_records_dataset.csv')"
   ]
  },
  {
   "cell_type": "code",
   "execution_count": null,
   "metadata": {
    "execution": {
     "iopub.execute_input": "2020-08-20T17:54:17.209540Z",
     "iopub.status.busy": "2020-08-20T17:54:17.207401Z",
     "iopub.status.idle": "2020-08-20T17:54:17.223810Z",
     "shell.execute_reply": "2020-08-20T17:54:17.224560Z"
    },
    "papermill": {
     "duration": 0.052177,
     "end_time": "2020-08-20T17:54:17.224758",
     "exception": false,
     "start_time": "2020-08-20T17:54:17.172581",
     "status": "completed"
    },
    "tags": []
   },
   "outputs": [],
   "source": [
    "# Lets look at the top 5 rows\n",
    "dataset.head()"
   ]
  },
  {
   "cell_type": "code",
   "execution_count": null,
   "metadata": {
    "execution": {
     "iopub.execute_input": "2020-08-20T17:54:17.281497Z",
     "iopub.status.busy": "2020-08-20T17:54:17.280438Z",
     "iopub.status.idle": "2020-08-20T17:54:17.287892Z",
     "shell.execute_reply": "2020-08-20T17:54:17.286934Z"
    },
    "papermill": {
     "duration": 0.040637,
     "end_time": "2020-08-20T17:54:17.288071",
     "exception": false,
     "start_time": "2020-08-20T17:54:17.247434",
     "status": "completed"
    },
    "tags": []
   },
   "outputs": [],
   "source": [
    "# Checking for null values\n",
    "dataset.isnull().sum()"
   ]
  },
  {
   "cell_type": "markdown",
   "metadata": {
    "papermill": {
     "duration": 0.021851,
     "end_time": "2020-08-20T17:54:17.334656",
     "exception": false,
     "start_time": "2020-08-20T17:54:17.312805",
     "status": "completed"
    },
    "tags": []
   },
   "source": [
    "LETS GET SOME INSIGHTS OF THE DATASET"
   ]
  },
  {
   "cell_type": "code",
   "execution_count": null,
   "metadata": {
    "execution": {
     "iopub.execute_input": "2020-08-20T17:54:17.390005Z",
     "iopub.status.busy": "2020-08-20T17:54:17.389184Z",
     "iopub.status.idle": "2020-08-20T17:54:17.621692Z",
     "shell.execute_reply": "2020-08-20T17:54:17.621083Z"
    },
    "papermill": {
     "duration": 0.26439,
     "end_time": "2020-08-20T17:54:17.621829",
     "exception": false,
     "start_time": "2020-08-20T17:54:17.357439",
     "status": "completed"
    },
    "tags": []
   },
   "outputs": [],
   "source": [
    "# Distribution of Age\n",
    "\n",
    "import plotly.graph_objects as go\n",
    "\n",
    "fig = go.Figure()\n",
    "fig.add_trace(go.Histogram(\n",
    "    x = dataset['age'],\n",
    "    xbins=dict( # bins used for histogram\n",
    "        start=40,\n",
    "        end=95,\n",
    "        size=2\n",
    "    ),\n",
    "    marker_color='#e8ab60',\n",
    "    opacity=1\n",
    "))\n",
    "\n",
    "fig.update_layout(\n",
    "    title_text='Age Distribution',\n",
    "    xaxis_title_text='Age',\n",
    "    yaxis_title_text='Count', \n",
    "    bargap=0.05, # gap between bars of adjacent location coordinates\n",
    "    plot_bgcolor='#000000',\n",
    "    xaxis =  {'showgrid': False },\n",
    "    yaxis = {'showgrid': False }\n",
    ")\n",
    "\n",
    "fig.show()"
   ]
  },
  {
   "cell_type": "code",
   "execution_count": null,
   "metadata": {
    "execution": {
     "iopub.execute_input": "2020-08-20T17:54:17.672707Z",
     "iopub.status.busy": "2020-08-20T17:54:17.671636Z",
     "iopub.status.idle": "2020-08-20T17:54:17.675021Z",
     "shell.execute_reply": "2020-08-20T17:54:17.674250Z"
    },
    "papermill": {
     "duration": 0.030351,
     "end_time": "2020-08-20T17:54:17.675154",
     "exception": false,
     "start_time": "2020-08-20T17:54:17.644803",
     "status": "completed"
    },
    "tags": []
   },
   "outputs": [],
   "source": [
    "# Hover over the graph to get the count of people of different age groups "
   ]
  },
  {
   "cell_type": "code",
   "execution_count": null,
   "metadata": {
    "execution": {
     "iopub.execute_input": "2020-08-20T17:54:17.727930Z",
     "iopub.status.busy": "2020-08-20T17:54:17.727145Z",
     "iopub.status.idle": "2020-08-20T17:54:19.673391Z",
     "shell.execute_reply": "2020-08-20T17:54:19.672725Z"
    },
    "papermill": {
     "duration": 1.975506,
     "end_time": "2020-08-20T17:54:19.673518",
     "exception": false,
     "start_time": "2020-08-20T17:54:17.698012",
     "status": "completed"
    },
    "tags": []
   },
   "outputs": [],
   "source": [
    "# Now lets categorize the above histogram by DEATH_EVENT\n",
    "\n",
    "import plotly.express as px\n",
    "fig = px.histogram(dataset, x=\"age\", color=\"DEATH_EVENT\", marginal=\"violin\", hover_data=dataset.columns)\n",
    "fig.show()"
   ]
  },
  {
   "cell_type": "code",
   "execution_count": null,
   "metadata": {
    "execution": {
     "iopub.execute_input": "2020-08-20T17:54:19.725311Z",
     "iopub.status.busy": "2020-08-20T17:54:19.724554Z",
     "iopub.status.idle": "2020-08-20T17:54:19.727983Z",
     "shell.execute_reply": "2020-08-20T17:54:19.727347Z"
    },
    "papermill": {
     "duration": 0.031,
     "end_time": "2020-08-20T17:54:19.728104",
     "exception": false,
     "start_time": "2020-08-20T17:54:19.697104",
     "status": "completed"
    },
    "tags": []
   },
   "outputs": [],
   "source": [
    "# Wider sections of the violin plot represent a higher probability of observations taking a given value, the thinner sections\n",
    "# correspond to a lower probability and the value of probability is given by kde value for given x"
   ]
  },
  {
   "cell_type": "code",
   "execution_count": null,
   "metadata": {
    "execution": {
     "iopub.execute_input": "2020-08-20T17:54:19.780665Z",
     "iopub.status.busy": "2020-08-20T17:54:19.779693Z",
     "iopub.status.idle": "2020-08-20T17:54:19.782693Z",
     "shell.execute_reply": "2020-08-20T17:54:19.782085Z"
    },
    "papermill": {
     "duration": 0.031094,
     "end_time": "2020-08-20T17:54:19.782824",
     "exception": false,
     "start_time": "2020-08-20T17:54:19.751730",
     "status": "completed"
    },
    "tags": []
   },
   "outputs": [],
   "source": [
    "# Similarly lets get insights of other features as well"
   ]
  },
  {
   "cell_type": "code",
   "execution_count": null,
   "metadata": {
    "execution": {
     "iopub.execute_input": "2020-08-20T17:54:19.852478Z",
     "iopub.status.busy": "2020-08-20T17:54:19.851408Z",
     "iopub.status.idle": "2020-08-20T17:54:19.856976Z",
     "shell.execute_reply": "2020-08-20T17:54:19.857557Z"
    },
    "papermill": {
     "duration": 0.051303,
     "end_time": "2020-08-20T17:54:19.857730",
     "exception": false,
     "start_time": "2020-08-20T17:54:19.806427",
     "status": "completed"
    },
    "tags": []
   },
   "outputs": [],
   "source": [
    "# Distribution of creatinine_phosphokinase\n",
    "\n",
    "import plotly.graph_objects as go\n",
    "\n",
    "fig = go.Figure()\n",
    "fig.add_trace(go.Histogram(\n",
    "    x = dataset['creatinine_phosphokinase'],\n",
    "    xbins=dict( # bins used for histogram\n",
    "        start=23,\n",
    "        end=582,\n",
    "        size=15\n",
    "    ),\n",
    "    marker_color='#FE6F5E',\n",
    "    opacity=1\n",
    "))\n",
    "\n",
    "fig.update_layout(\n",
    "    title_text='Creatinine Phosphokinase Distribution',\n",
    "    xaxis_title_text='Creatinine Phosphokinase',\n",
    "    yaxis_title_text='Count', \n",
    "    bargap=0.05, # gap between bars of adjacent location coordinates\n",
    "    plot_bgcolor='#000000',\n",
    "    xaxis =  {'showgrid': False },\n",
    "    yaxis = {'showgrid': False }\n",
    ")\n",
    "\n",
    "fig.show()"
   ]
  },
  {
   "cell_type": "code",
   "execution_count": null,
   "metadata": {
    "execution": {
     "iopub.execute_input": "2020-08-20T17:54:19.911741Z",
     "iopub.status.busy": "2020-08-20T17:54:19.910805Z",
     "iopub.status.idle": "2020-08-20T17:54:19.914176Z",
     "shell.execute_reply": "2020-08-20T17:54:19.913439Z"
    },
    "papermill": {
     "duration": 0.032201,
     "end_time": "2020-08-20T17:54:19.914346",
     "exception": false,
     "start_time": "2020-08-20T17:54:19.882145",
     "status": "completed"
    },
    "tags": []
   },
   "outputs": [],
   "source": [
    "# Hover over the graph to get the count of people having creatinine phosphokinase levels at same range"
   ]
  },
  {
   "cell_type": "code",
   "execution_count": null,
   "metadata": {
    "execution": {
     "iopub.execute_input": "2020-08-20T17:54:20.020397Z",
     "iopub.status.busy": "2020-08-20T17:54:19.985736Z",
     "iopub.status.idle": "2020-08-20T17:54:20.066398Z",
     "shell.execute_reply": "2020-08-20T17:54:20.064481Z"
    },
    "papermill": {
     "duration": 0.12826,
     "end_time": "2020-08-20T17:54:20.066617",
     "exception": false,
     "start_time": "2020-08-20T17:54:19.938357",
     "status": "completed"
    },
    "tags": []
   },
   "outputs": [],
   "source": [
    "# Now lets categorize the above histogram by DEATH_EVENT\n",
    "\n",
    "import plotly.express as px\n",
    "fig = px.histogram(dataset, x=\"creatinine_phosphokinase\", color=\"DEATH_EVENT\", marginal=\"violin\", hover_data=dataset.columns)\n",
    "fig.show()"
   ]
  },
  {
   "cell_type": "code",
   "execution_count": null,
   "metadata": {
    "execution": {
     "iopub.execute_input": "2020-08-20T17:54:20.162776Z",
     "iopub.status.busy": "2020-08-20T17:54:20.161695Z",
     "iopub.status.idle": "2020-08-20T17:54:20.169385Z",
     "shell.execute_reply": "2020-08-20T17:54:20.168634Z"
    },
    "papermill": {
     "duration": 0.06723,
     "end_time": "2020-08-20T17:54:20.169569",
     "exception": false,
     "start_time": "2020-08-20T17:54:20.102339",
     "status": "completed"
    },
    "tags": []
   },
   "outputs": [],
   "source": [
    "# Distribution of ejection_fraction\n",
    "\n",
    "import plotly.graph_objects as go\n",
    "\n",
    "fig = go.Figure()\n",
    "fig.add_trace(go.Histogram(\n",
    "    x = dataset['ejection_fraction'],\n",
    "    xbins=dict( # bins used for histogram\n",
    "        start=14,\n",
    "        end=80,\n",
    "        size=2\n",
    "    ),\n",
    "    marker_color='#A7F432',\n",
    "    opacity=1\n",
    "))\n",
    "\n",
    "fig.update_layout(\n",
    "    title_text='Ejection Fraction Distribution',\n",
    "    xaxis_title_text='Ejection Fraction',\n",
    "    yaxis_title_text='Count', \n",
    "    bargap=0.05, # gap between bars of adjacent location coordinates\n",
    "    plot_bgcolor='#000000',\n",
    "    xaxis =  {'showgrid': False },\n",
    "    yaxis = {'showgrid': False }\n",
    ")\n",
    "\n",
    "fig.show()"
   ]
  },
  {
   "cell_type": "code",
   "execution_count": null,
   "metadata": {
    "execution": {
     "iopub.execute_input": "2020-08-20T17:54:20.266476Z",
     "iopub.status.busy": "2020-08-20T17:54:20.257309Z",
     "iopub.status.idle": "2020-08-20T17:54:20.336057Z",
     "shell.execute_reply": "2020-08-20T17:54:20.335300Z"
    },
    "papermill": {
     "duration": 0.133689,
     "end_time": "2020-08-20T17:54:20.336185",
     "exception": false,
     "start_time": "2020-08-20T17:54:20.202496",
     "status": "completed"
    },
    "tags": []
   },
   "outputs": [],
   "source": [
    "# Now lets categorize the above histogram by DEATH_EVENT\n",
    "\n",
    "import plotly.express as px\n",
    "fig = px.histogram(dataset, x=\"ejection_fraction\", color=\"DEATH_EVENT\", marginal=\"violin\", hover_data=dataset.columns)\n",
    "fig.show()"
   ]
  },
  {
   "cell_type": "code",
   "execution_count": null,
   "metadata": {
    "execution": {
     "iopub.execute_input": "2020-08-20T17:54:20.408940Z",
     "iopub.status.busy": "2020-08-20T17:54:20.408063Z",
     "iopub.status.idle": "2020-08-20T17:54:20.413948Z",
     "shell.execute_reply": "2020-08-20T17:54:20.413181Z"
    },
    "papermill": {
     "duration": 0.052376,
     "end_time": "2020-08-20T17:54:20.414075",
     "exception": false,
     "start_time": "2020-08-20T17:54:20.361699",
     "status": "completed"
    },
    "tags": []
   },
   "outputs": [],
   "source": [
    "# Distribution of platelets\n",
    "\n",
    "import plotly.graph_objects as go\n",
    "\n",
    "fig = go.Figure()\n",
    "fig.add_trace(go.Histogram(\n",
    "    x = dataset['platelets'],\n",
    "    xbins=dict( # bins used for histogram\n",
    "        start=25000,\n",
    "        end=300000,\n",
    "        size=5000\n",
    "    ),\n",
    "    marker_color='#50BFE6',\n",
    "    opacity=1\n",
    "))\n",
    "\n",
    "fig.update_layout(\n",
    "    title_text='Platelets Distribution',\n",
    "    xaxis_title_text='Platelets',\n",
    "    yaxis_title_text='Count', \n",
    "    bargap=0.05, # gap between bars of adjacent location coordinates\n",
    "    plot_bgcolor='#000000',\n",
    "    xaxis =  {'showgrid': False },\n",
    "    yaxis = {'showgrid': False }\n",
    ")\n",
    "\n",
    "fig.show()"
   ]
  },
  {
   "cell_type": "code",
   "execution_count": null,
   "metadata": {
    "execution": {
     "iopub.execute_input": "2020-08-20T17:54:20.487432Z",
     "iopub.status.busy": "2020-08-20T17:54:20.486205Z",
     "iopub.status.idle": "2020-08-20T17:54:20.568230Z",
     "shell.execute_reply": "2020-08-20T17:54:20.568824Z"
    },
    "papermill": {
     "duration": 0.128901,
     "end_time": "2020-08-20T17:54:20.568981",
     "exception": false,
     "start_time": "2020-08-20T17:54:20.440080",
     "status": "completed"
    },
    "tags": []
   },
   "outputs": [],
   "source": [
    "# Now lets categorize the above histogram by DEATH_EVENT\n",
    "\n",
    "import plotly.express as px\n",
    "fig = px.histogram(dataset, x=\"platelets\", color=\"DEATH_EVENT\", marginal=\"violin\", hover_data=dataset.columns)\n",
    "fig.show()"
   ]
  },
  {
   "cell_type": "code",
   "execution_count": null,
   "metadata": {
    "execution": {
     "iopub.execute_input": "2020-08-20T17:54:20.642971Z",
     "iopub.status.busy": "2020-08-20T17:54:20.630489Z",
     "iopub.status.idle": "2020-08-20T17:54:20.649128Z",
     "shell.execute_reply": "2020-08-20T17:54:20.648519Z"
    },
    "papermill": {
     "duration": 0.053888,
     "end_time": "2020-08-20T17:54:20.649282",
     "exception": false,
     "start_time": "2020-08-20T17:54:20.595394",
     "status": "completed"
    },
    "tags": []
   },
   "outputs": [],
   "source": [
    "# Distribution of serum_creatinine\n",
    "\n",
    "import plotly.graph_objects as go\n",
    "\n",
    "fig = go.Figure()\n",
    "fig.add_trace(go.Histogram(\n",
    "    x = dataset['serum_creatinine'],\n",
    "    xbins=dict( # bins used for histogram\n",
    "        start=0.5,\n",
    "        end=9.4,\n",
    "        size=0.2\n",
    "    ),\n",
    "    marker_color='#E77200',\n",
    "    opacity=1\n",
    "))\n",
    "\n",
    "fig.update_layout(\n",
    "    title_text='Serum Creatinine Distribution',\n",
    "    xaxis_title_text='Serum Creatinine',\n",
    "    yaxis_title_text='Count', \n",
    "    bargap=0.05, # gap between bars of adjacent location coordinates\n",
    "    plot_bgcolor='#000000',\n",
    "    xaxis =  {'showgrid': False },\n",
    "    yaxis = {'showgrid': False }\n",
    ")\n",
    "\n",
    "fig.show()"
   ]
  },
  {
   "cell_type": "code",
   "execution_count": null,
   "metadata": {
    "execution": {
     "iopub.execute_input": "2020-08-20T17:54:20.727651Z",
     "iopub.status.busy": "2020-08-20T17:54:20.726853Z",
     "iopub.status.idle": "2020-08-20T17:54:20.802170Z",
     "shell.execute_reply": "2020-08-20T17:54:20.801451Z"
    },
    "papermill": {
     "duration": 0.126228,
     "end_time": "2020-08-20T17:54:20.802316",
     "exception": false,
     "start_time": "2020-08-20T17:54:20.676088",
     "status": "completed"
    },
    "tags": []
   },
   "outputs": [],
   "source": [
    "# Now lets categorize the above histogram by DEATH_EVENT\n",
    "\n",
    "import plotly.express as px\n",
    "fig = px.histogram(dataset, x=\"serum_creatinine\", color=\"DEATH_EVENT\", marginal=\"violin\", hover_data=dataset.columns)\n",
    "fig.show()"
   ]
  },
  {
   "cell_type": "code",
   "execution_count": null,
   "metadata": {
    "execution": {
     "iopub.execute_input": "2020-08-20T17:54:20.878083Z",
     "iopub.status.busy": "2020-08-20T17:54:20.877299Z",
     "iopub.status.idle": "2020-08-20T17:54:20.883215Z",
     "shell.execute_reply": "2020-08-20T17:54:20.882508Z"
    },
    "papermill": {
     "duration": 0.053767,
     "end_time": "2020-08-20T17:54:20.883359",
     "exception": false,
     "start_time": "2020-08-20T17:54:20.829592",
     "status": "completed"
    },
    "tags": []
   },
   "outputs": [],
   "source": [
    "# Distribution of serum_sodium\n",
    "\n",
    "import plotly.graph_objects as go\n",
    "\n",
    "fig = go.Figure()\n",
    "fig.add_trace(go.Histogram(\n",
    "    x = dataset['serum_sodium'],\n",
    "    xbins=dict( # bins used for histogram\n",
    "        start=113,\n",
    "        end=148,\n",
    "        size=1\n",
    "    ),\n",
    "    marker_color='#AAF0D1',\n",
    "    opacity=1\n",
    "))\n",
    "\n",
    "fig.update_layout(\n",
    "    title_text='Serum Sodium Distribution',\n",
    "    xaxis_title_text='Serum Sodium',\n",
    "    yaxis_title_text='Count', \n",
    "    bargap=0.05, # gap between bars of adjacent location coordinates\n",
    "    plot_bgcolor='#000000',\n",
    "    xaxis =  {'showgrid': False },\n",
    "    yaxis = {'showgrid': False }\n",
    ")\n",
    "\n",
    "fig.show()"
   ]
  },
  {
   "cell_type": "code",
   "execution_count": null,
   "metadata": {
    "execution": {
     "iopub.execute_input": "2020-08-20T17:54:20.957900Z",
     "iopub.status.busy": "2020-08-20T17:54:20.948044Z",
     "iopub.status.idle": "2020-08-20T17:54:21.038531Z",
     "shell.execute_reply": "2020-08-20T17:54:21.037883Z"
    },
    "papermill": {
     "duration": 0.127517,
     "end_time": "2020-08-20T17:54:21.038659",
     "exception": false,
     "start_time": "2020-08-20T17:54:20.911142",
     "status": "completed"
    },
    "tags": []
   },
   "outputs": [],
   "source": [
    "# Now lets categorize the above histogram by DEATH_EVENT\n",
    "\n",
    "import plotly.express as px\n",
    "fig = px.histogram(dataset, x=\"serum_sodium\", color=\"DEATH_EVENT\", marginal=\"violin\",hover_data=dataset.columns)\n",
    "fig.show()"
   ]
  },
  {
   "cell_type": "code",
   "execution_count": null,
   "metadata": {
    "execution": {
     "iopub.execute_input": "2020-08-20T17:54:21.108526Z",
     "iopub.status.busy": "2020-08-20T17:54:21.107750Z",
     "iopub.status.idle": "2020-08-20T17:54:21.172374Z",
     "shell.execute_reply": "2020-08-20T17:54:21.171703Z"
    },
    "papermill": {
     "duration": 0.105426,
     "end_time": "2020-08-20T17:54:21.172512",
     "exception": false,
     "start_time": "2020-08-20T17:54:21.067086",
     "status": "completed"
    },
    "tags": []
   },
   "outputs": [],
   "source": [
    "# The following pie chart shows that out of 125 people having diabetes only 32% die while 68% survive.\n",
    "\n",
    "import plotly.express as px\n",
    "fig = px.pie(dataset, values='diabetes',names='DEATH_EVENT', title='DIABETES',width=600, height=400)\n",
    "fig.show()"
   ]
  },
  {
   "cell_type": "code",
   "execution_count": null,
   "metadata": {
    "execution": {
     "iopub.execute_input": "2020-08-20T17:54:21.254337Z",
     "iopub.status.busy": "2020-08-20T17:54:21.241197Z",
     "iopub.status.idle": "2020-08-20T17:54:21.289554Z",
     "shell.execute_reply": "2020-08-20T17:54:21.288823Z"
    },
    "papermill": {
     "duration": 0.088142,
     "end_time": "2020-08-20T17:54:21.289694",
     "exception": false,
     "start_time": "2020-08-20T17:54:21.201552",
     "status": "completed"
    },
    "tags": []
   },
   "outputs": [],
   "source": [
    "# The following pie chart shows that out of 96 people who die because of heart failure 41.7% have diabetes and 58.3% do not have diabetes\n",
    "\n",
    "fig = px.pie(dataset, values='DEATH_EVENT',names='diabetes', title='DIABETES', width=600, height=400)\n",
    "fig.show()"
   ]
  },
  {
   "cell_type": "code",
   "execution_count": null,
   "metadata": {
    "execution": {
     "iopub.execute_input": "2020-08-20T17:54:21.373431Z",
     "iopub.status.busy": "2020-08-20T17:54:21.357735Z",
     "iopub.status.idle": "2020-08-20T17:54:21.408082Z",
     "shell.execute_reply": "2020-08-20T17:54:21.407416Z"
    },
    "papermill": {
     "duration": 0.087993,
     "end_time": "2020-08-20T17:54:21.408210",
     "exception": false,
     "start_time": "2020-08-20T17:54:21.320217",
     "status": "completed"
    },
    "tags": []
   },
   "outputs": [],
   "source": [
    "# The following pie chart shows that out of 129 people having Anaemia, 64.3% survive while 35.7% die\n",
    "\n",
    "fig = px.pie(dataset, values='anaemia',names='DEATH_EVENT', title='ANAEMIA', width=600, height=400)\n",
    "fig.show()"
   ]
  },
  {
   "cell_type": "code",
   "execution_count": null,
   "metadata": {
    "execution": {
     "iopub.execute_input": "2020-08-20T17:54:21.506474Z",
     "iopub.status.busy": "2020-08-20T17:54:21.477771Z",
     "iopub.status.idle": "2020-08-20T17:54:21.526730Z",
     "shell.execute_reply": "2020-08-20T17:54:21.526071Z"
    },
    "papermill": {
     "duration": 0.089223,
     "end_time": "2020-08-20T17:54:21.526863",
     "exception": false,
     "start_time": "2020-08-20T17:54:21.437640",
     "status": "completed"
    },
    "tags": []
   },
   "outputs": [],
   "source": [
    "# The following pie chart shows that out of 96 people who die due to heart faiure 47.9% are anaemic while 52.1% are non-anaemic\n",
    "\n",
    "fig = px.pie(dataset, values='DEATH_EVENT',names='anaemia', title='ANAEMIA',\n",
    "      width=600, height=400)\n",
    "fig.show()"
   ]
  },
  {
   "cell_type": "code",
   "execution_count": null,
   "metadata": {
    "execution": {
     "iopub.execute_input": "2020-08-20T17:54:21.635863Z",
     "iopub.status.busy": "2020-08-20T17:54:21.609728Z",
     "iopub.status.idle": "2020-08-20T17:54:21.646398Z",
     "shell.execute_reply": "2020-08-20T17:54:21.645614Z"
    },
    "papermill": {
     "duration": 0.089684,
     "end_time": "2020-08-20T17:54:21.646536",
     "exception": false,
     "start_time": "2020-08-20T17:54:21.556852",
     "status": "completed"
    },
    "tags": []
   },
   "outputs": [],
   "source": [
    "# The following pie chart shows that out of 105 people who have high BP, only 37.1% die while rest 62.9% survive\n",
    "\n",
    "fig = px.pie(dataset, values='high_blood_pressure',names='DEATH_EVENT', title='HIGH BlOOD PRESSURE',width=600, height=400)\n",
    "fig.show()"
   ]
  },
  {
   "cell_type": "code",
   "execution_count": null,
   "metadata": {
    "execution": {
     "iopub.execute_input": "2020-08-20T17:54:21.760175Z",
     "iopub.status.busy": "2020-08-20T17:54:21.729764Z",
     "iopub.status.idle": "2020-08-20T17:54:21.766859Z",
     "shell.execute_reply": "2020-08-20T17:54:21.766181Z"
    },
    "papermill": {
     "duration": 0.09057,
     "end_time": "2020-08-20T17:54:21.766989",
     "exception": false,
     "start_time": "2020-08-20T17:54:21.676419",
     "status": "completed"
    },
    "tags": []
   },
   "outputs": [],
   "source": [
    "# Out of 96 people who die because of heart failure, 40.6% have high BP while 59.4% do not have high BP\n",
    "\n",
    "fig = px.pie(dataset, values='DEATH_EVENT',names='high_blood_pressure', title='HIGH BLOOD PRESSURE', width=600, height=400)\n",
    "fig.show()"
   ]
  },
  {
   "cell_type": "code",
   "execution_count": null,
   "metadata": {
    "execution": {
     "iopub.execute_input": "2020-08-20T17:54:21.841657Z",
     "iopub.status.busy": "2020-08-20T17:54:21.840832Z",
     "iopub.status.idle": "2020-08-20T17:54:21.890933Z",
     "shell.execute_reply": "2020-08-20T17:54:21.890225Z"
    },
    "papermill": {
     "duration": 0.092084,
     "end_time": "2020-08-20T17:54:21.891073",
     "exception": false,
     "start_time": "2020-08-20T17:54:21.798989",
     "status": "completed"
    },
    "tags": []
   },
   "outputs": [],
   "source": [
    "# The following pie chart shows that out of 96 people who die due to Heart Failure, 35.4% are women and 64.6% are men.\n",
    "\n",
    "fig = px.pie(dataset, values='DEATH_EVENT',names='sex', title='GENDER',\n",
    "      width=600, height=400)\n",
    "fig.show()"
   ]
  },
  {
   "cell_type": "code",
   "execution_count": null,
   "metadata": {
    "execution": {
     "iopub.execute_input": "2020-08-20T17:54:21.963923Z",
     "iopub.status.busy": "2020-08-20T17:54:21.961320Z",
     "iopub.status.idle": "2020-08-20T17:54:22.012970Z",
     "shell.execute_reply": "2020-08-20T17:54:22.012245Z"
    },
    "papermill": {
     "duration": 0.090622,
     "end_time": "2020-08-20T17:54:22.013107",
     "exception": false,
     "start_time": "2020-08-20T17:54:21.922485",
     "status": "completed"
    },
    "tags": []
   },
   "outputs": [],
   "source": [
    "# The following pie chart shows that 96 people who smoke, 31.3% die while 68.8% survive\n",
    "\n",
    "fig = px.pie(dataset, values='smoking',names='DEATH_EVENT', title='SMOKING',\n",
    "      width=600, height=400)\n",
    "fig.show()"
   ]
  },
  {
   "cell_type": "code",
   "execution_count": null,
   "metadata": {
    "execution": {
     "iopub.execute_input": "2020-08-20T17:54:22.120017Z",
     "iopub.status.busy": "2020-08-20T17:54:22.104669Z",
     "iopub.status.idle": "2020-08-20T17:54:22.134660Z",
     "shell.execute_reply": "2020-08-20T17:54:22.135180Z"
    },
    "papermill": {
     "duration": 0.091002,
     "end_time": "2020-08-20T17:54:22.135371",
     "exception": false,
     "start_time": "2020-08-20T17:54:22.044369",
     "status": "completed"
    },
    "tags": []
   },
   "outputs": [],
   "source": [
    "# The following pie chart shows that out of 96 people who die due to Heart Failure, 31.3% smoke while 68.8% do not smoke\n",
    "\n",
    "fig = px.pie(dataset, values='DEATH_EVENT',names='smoking', title='SMOKING',\n",
    "      width=600, height=400)\n",
    "fig.show()"
   ]
  },
  {
   "cell_type": "code",
   "execution_count": null,
   "metadata": {
    "execution": {
     "iopub.execute_input": "2020-08-20T17:54:22.219645Z",
     "iopub.status.busy": "2020-08-20T17:54:22.218682Z",
     "iopub.status.idle": "2020-08-20T17:54:22.221892Z",
     "shell.execute_reply": "2020-08-20T17:54:22.221208Z"
    },
    "papermill": {
     "duration": 0.055221,
     "end_time": "2020-08-20T17:54:22.222027",
     "exception": false,
     "start_time": "2020-08-20T17:54:22.166806",
     "status": "completed"
    },
    "tags": []
   },
   "outputs": [],
   "source": [
    "x = dataset.iloc[:, :-1]\n",
    "y = dataset.iloc[:,-1]"
   ]
  },
  {
   "cell_type": "code",
   "execution_count": null,
   "metadata": {
    "execution": {
     "iopub.execute_input": "2020-08-20T17:54:22.292057Z",
     "iopub.status.busy": "2020-08-20T17:54:22.291282Z",
     "iopub.status.idle": "2020-08-20T17:54:23.139777Z",
     "shell.execute_reply": "2020-08-20T17:54:23.139019Z"
    },
    "papermill": {
     "duration": 0.88685,
     "end_time": "2020-08-20T17:54:23.139909",
     "exception": false,
     "start_time": "2020-08-20T17:54:22.253059",
     "status": "completed"
    },
    "tags": []
   },
   "outputs": [],
   "source": [
    "# Feature Selection\n",
    "\n",
    "from sklearn.ensemble import ExtraTreesClassifier\n",
    "import matplotlib.pyplot as plt\n",
    "model = ExtraTreesClassifier()\n",
    "model.fit(x,y)\n",
    "print(model.feature_importances_) \n",
    "feat_importances = pd.Series(model.feature_importances_, index=x.columns)\n",
    "feat_importances.nlargest(12).plot(kind='barh')\n",
    "plt.show()"
   ]
  },
  {
   "cell_type": "code",
   "execution_count": null,
   "metadata": {
    "execution": {
     "iopub.execute_input": "2020-08-20T17:54:23.209368Z",
     "iopub.status.busy": "2020-08-20T17:54:23.208408Z",
     "iopub.status.idle": "2020-08-20T17:54:23.211556Z",
     "shell.execute_reply": "2020-08-20T17:54:23.210799Z"
    },
    "papermill": {
     "duration": 0.040094,
     "end_time": "2020-08-20T17:54:23.211683",
     "exception": false,
     "start_time": "2020-08-20T17:54:23.171589",
     "status": "completed"
    },
    "tags": []
   },
   "outputs": [],
   "source": [
    "# From the above Feature Selection Model we select the following features\n",
    "\n",
    "Features = ['time','ejection_fraction','serum_creatinine','age','serum_sodium', 'creatinine_phosphokinase','platelets']"
   ]
  },
  {
   "cell_type": "code",
   "execution_count": null,
   "metadata": {
    "execution": {
     "iopub.execute_input": "2020-08-20T17:54:23.284186Z",
     "iopub.status.busy": "2020-08-20T17:54:23.283148Z",
     "iopub.status.idle": "2020-08-20T17:54:23.285837Z",
     "shell.execute_reply": "2020-08-20T17:54:23.286413Z"
    },
    "papermill": {
     "duration": 0.042673,
     "end_time": "2020-08-20T17:54:23.286582",
     "exception": false,
     "start_time": "2020-08-20T17:54:23.243909",
     "status": "completed"
    },
    "tags": []
   },
   "outputs": [],
   "source": [
    "x = dataset.iloc[:, [0,2,4,6,7,8,11]].values\n",
    "y = dataset.iloc[:,-1].values"
   ]
  },
  {
   "cell_type": "code",
   "execution_count": null,
   "metadata": {
    "execution": {
     "iopub.execute_input": "2020-08-20T17:54:23.357276Z",
     "iopub.status.busy": "2020-08-20T17:54:23.356516Z",
     "iopub.status.idle": "2020-08-20T17:54:23.359745Z",
     "shell.execute_reply": "2020-08-20T17:54:23.360566Z"
    },
    "papermill": {
     "duration": 0.042142,
     "end_time": "2020-08-20T17:54:23.360769",
     "exception": false,
     "start_time": "2020-08-20T17:54:23.318627",
     "status": "completed"
    },
    "tags": []
   },
   "outputs": [],
   "source": [
    "print(x)"
   ]
  },
  {
   "cell_type": "code",
   "execution_count": null,
   "metadata": {
    "execution": {
     "iopub.execute_input": "2020-08-20T17:54:23.481649Z",
     "iopub.status.busy": "2020-08-20T17:54:23.480879Z",
     "iopub.status.idle": "2020-08-20T17:54:23.485283Z",
     "shell.execute_reply": "2020-08-20T17:54:23.484248Z"
    },
    "papermill": {
     "duration": 0.09134,
     "end_time": "2020-08-20T17:54:23.485459",
     "exception": false,
     "start_time": "2020-08-20T17:54:23.394119",
     "status": "completed"
    },
    "tags": []
   },
   "outputs": [],
   "source": [
    "print(y)"
   ]
  },
  {
   "cell_type": "code",
   "execution_count": null,
   "metadata": {
    "execution": {
     "iopub.execute_input": "2020-08-20T17:54:23.557688Z",
     "iopub.status.busy": "2020-08-20T17:54:23.556942Z",
     "iopub.status.idle": "2020-08-20T17:54:23.560462Z",
     "shell.execute_reply": "2020-08-20T17:54:23.559840Z"
    },
    "papermill": {
     "duration": 0.042187,
     "end_time": "2020-08-20T17:54:23.560589",
     "exception": false,
     "start_time": "2020-08-20T17:54:23.518402",
     "status": "completed"
    },
    "tags": []
   },
   "outputs": [],
   "source": [
    "# Splitting the dataset into training set and test set\n",
    "\n",
    "from sklearn.model_selection import train_test_split\n",
    "x_train, x_test, y_train, y_test = train_test_split(x, y, test_size = 0.2, random_state =0)"
   ]
  },
  {
   "cell_type": "code",
   "execution_count": null,
   "metadata": {
    "execution": {
     "iopub.execute_input": "2020-08-20T17:54:23.631415Z",
     "iopub.status.busy": "2020-08-20T17:54:23.630660Z",
     "iopub.status.idle": "2020-08-20T17:54:23.634624Z",
     "shell.execute_reply": "2020-08-20T17:54:23.633878Z"
    },
    "papermill": {
     "duration": 0.04198,
     "end_time": "2020-08-20T17:54:23.634748",
     "exception": false,
     "start_time": "2020-08-20T17:54:23.592768",
     "status": "completed"
    },
    "tags": []
   },
   "outputs": [],
   "source": [
    "print(x_train)"
   ]
  },
  {
   "cell_type": "code",
   "execution_count": null,
   "metadata": {
    "execution": {
     "iopub.execute_input": "2020-08-20T17:54:23.705304Z",
     "iopub.status.busy": "2020-08-20T17:54:23.704412Z",
     "iopub.status.idle": "2020-08-20T17:54:23.707744Z",
     "shell.execute_reply": "2020-08-20T17:54:23.708322Z"
    },
    "papermill": {
     "duration": 0.041595,
     "end_time": "2020-08-20T17:54:23.708494",
     "exception": false,
     "start_time": "2020-08-20T17:54:23.666899",
     "status": "completed"
    },
    "tags": []
   },
   "outputs": [],
   "source": [
    "print(y_test)"
   ]
  },
  {
   "cell_type": "markdown",
   "metadata": {
    "papermill": {
     "duration": 0.032052,
     "end_time": "2020-08-20T17:54:23.772859",
     "exception": false,
     "start_time": "2020-08-20T17:54:23.740807",
     "status": "completed"
    },
    "tags": []
   },
   "source": [
    "----"
   ]
  },
  {
   "cell_type": "code",
   "execution_count": null,
   "metadata": {
    "execution": {
     "iopub.execute_input": "2020-08-20T17:54:23.845254Z",
     "iopub.status.busy": "2020-08-20T17:54:23.844198Z",
     "iopub.status.idle": "2020-08-20T17:54:23.849036Z",
     "shell.execute_reply": "2020-08-20T17:54:23.848403Z"
    },
    "papermill": {
     "duration": 0.043998,
     "end_time": "2020-08-20T17:54:23.849164",
     "exception": false,
     "start_time": "2020-08-20T17:54:23.805166",
     "status": "completed"
    },
    "tags": []
   },
   "outputs": [],
   "source": [
    "# Feature Scaling\n",
    "\n",
    "from sklearn.preprocessing import StandardScaler\n",
    "sc = StandardScaler()\n",
    "x_train = sc.fit_transform(x_train)\n",
    "x_test = sc.transform(x_test)"
   ]
  },
  {
   "cell_type": "markdown",
   "metadata": {
    "papermill": {
     "duration": 0.032119,
     "end_time": "2020-08-20T17:54:23.914284",
     "exception": false,
     "start_time": "2020-08-20T17:54:23.882165",
     "status": "completed"
    },
    "tags": []
   },
   "source": [
    "----"
   ]
  },
  {
   "cell_type": "markdown",
   "metadata": {
    "papermill": {
     "duration": 0.032,
     "end_time": "2020-08-20T17:54:23.978631",
     "exception": false,
     "start_time": "2020-08-20T17:54:23.946631",
     "status": "completed"
    },
    "tags": []
   },
   "source": [
    "1. LOGISTIC REGRESSION"
   ]
  },
  {
   "cell_type": "code",
   "execution_count": null,
   "metadata": {
    "execution": {
     "iopub.execute_input": "2020-08-20T17:54:24.056353Z",
     "iopub.status.busy": "2020-08-20T17:54:24.055530Z",
     "iopub.status.idle": "2020-08-20T17:54:24.067102Z",
     "shell.execute_reply": "2020-08-20T17:54:24.066293Z"
    },
    "papermill": {
     "duration": 0.056233,
     "end_time": "2020-08-20T17:54:24.067254",
     "exception": false,
     "start_time": "2020-08-20T17:54:24.011021",
     "status": "completed"
    },
    "tags": []
   },
   "outputs": [],
   "source": [
    "# Applying logistic regression on the training set\n",
    "\n",
    "from sklearn.linear_model import LogisticRegression\n",
    "classifier = LogisticRegression(max_iter=10000)\n",
    "classifier.fit(x_train, y_train)"
   ]
  },
  {
   "cell_type": "code",
   "execution_count": null,
   "metadata": {
    "execution": {
     "iopub.execute_input": "2020-08-20T17:54:24.138934Z",
     "iopub.status.busy": "2020-08-20T17:54:24.138187Z",
     "iopub.status.idle": "2020-08-20T17:54:24.141461Z",
     "shell.execute_reply": "2020-08-20T17:54:24.140687Z"
    },
    "papermill": {
     "duration": 0.041197,
     "end_time": "2020-08-20T17:54:24.141593",
     "exception": false,
     "start_time": "2020-08-20T17:54:24.100396",
     "status": "completed"
    },
    "tags": []
   },
   "outputs": [],
   "source": [
    "# Predicting the test set\n",
    "\n",
    "y_pred = classifier.predict(x_test)"
   ]
  },
  {
   "cell_type": "code",
   "execution_count": null,
   "metadata": {
    "execution": {
     "iopub.execute_input": "2020-08-20T17:54:24.217108Z",
     "iopub.status.busy": "2020-08-20T17:54:24.215916Z",
     "iopub.status.idle": "2020-08-20T17:54:24.221662Z",
     "shell.execute_reply": "2020-08-20T17:54:24.220917Z"
    },
    "papermill": {
     "duration": 0.047243,
     "end_time": "2020-08-20T17:54:24.221787",
     "exception": false,
     "start_time": "2020-08-20T17:54:24.174544",
     "status": "completed"
    },
    "tags": []
   },
   "outputs": [],
   "source": [
    "# Making Confusion Matrix and calculating accuracy score\n",
    "\n",
    "mylist = []\n",
    "from sklearn.metrics import confusion_matrix, accuracy_score\n",
    "cm = confusion_matrix(y_test, y_pred)\n",
    "ac = accuracy_score(y_test, y_pred)\n",
    "mylist.append(ac)\n",
    "print(cm)\n",
    "print(ac)"
   ]
  },
  {
   "cell_type": "markdown",
   "metadata": {
    "papermill": {
     "duration": 0.032313,
     "end_time": "2020-08-20T17:54:24.287595",
     "exception": false,
     "start_time": "2020-08-20T17:54:24.255282",
     "status": "completed"
    },
    "tags": []
   },
   "source": [
    "----"
   ]
  },
  {
   "cell_type": "markdown",
   "metadata": {
    "papermill": {
     "duration": 0.032409,
     "end_time": "2020-08-20T17:54:24.353044",
     "exception": false,
     "start_time": "2020-08-20T17:54:24.320635",
     "status": "completed"
    },
    "tags": []
   },
   "source": [
    "2. K NEAREST NEIGHBOR"
   ]
  },
  {
   "cell_type": "code",
   "execution_count": null,
   "metadata": {
    "execution": {
     "iopub.execute_input": "2020-08-20T17:54:24.430150Z",
     "iopub.status.busy": "2020-08-20T17:54:24.429387Z",
     "iopub.status.idle": "2020-08-20T17:54:24.615387Z",
     "shell.execute_reply": "2020-08-20T17:54:24.614605Z"
    },
    "papermill": {
     "duration": 0.229729,
     "end_time": "2020-08-20T17:54:24.615513",
     "exception": false,
     "start_time": "2020-08-20T17:54:24.385784",
     "status": "completed"
    },
    "tags": []
   },
   "outputs": [],
   "source": [
    "# Finding the optimum number of neighbors \n",
    "\n",
    "from sklearn.neighbors import KNeighborsClassifier\n",
    "from sklearn.metrics import confusion_matrix, accuracy_score\n",
    "list1 = []\n",
    "for neighbors in range(3,10):\n",
    "    classifier = KNeighborsClassifier(n_neighbors=neighbors, metric='minkowski')\n",
    "    classifier.fit(x_train, y_train)\n",
    "    y_pred = classifier.predict(x_test)\n",
    "    list1.append(accuracy_score(y_test,y_pred))\n",
    "plt.plot(list(range(3,10)), list1)\n",
    "plt.show()"
   ]
  },
  {
   "cell_type": "code",
   "execution_count": null,
   "metadata": {
    "execution": {
     "iopub.execute_input": "2020-08-20T17:54:24.690789Z",
     "iopub.status.busy": "2020-08-20T17:54:24.689720Z",
     "iopub.status.idle": "2020-08-20T17:54:24.694578Z",
     "shell.execute_reply": "2020-08-20T17:54:24.693818Z"
    },
    "papermill": {
     "duration": 0.045818,
     "end_time": "2020-08-20T17:54:24.694705",
     "exception": false,
     "start_time": "2020-08-20T17:54:24.648887",
     "status": "completed"
    },
    "tags": []
   },
   "outputs": [],
   "source": [
    "# Training the K Nearest Neighbor Classifier on the Training set\n",
    "\n",
    "classifier = KNeighborsClassifier(n_neighbors=3)\n",
    "classifier.fit(x_train, y_train)"
   ]
  },
  {
   "cell_type": "code",
   "execution_count": null,
   "metadata": {
    "execution": {
     "iopub.execute_input": "2020-08-20T17:54:24.768314Z",
     "iopub.status.busy": "2020-08-20T17:54:24.767135Z",
     "iopub.status.idle": "2020-08-20T17:54:24.776302Z",
     "shell.execute_reply": "2020-08-20T17:54:24.775554Z"
    },
    "papermill": {
     "duration": 0.048334,
     "end_time": "2020-08-20T17:54:24.776442",
     "exception": false,
     "start_time": "2020-08-20T17:54:24.728108",
     "status": "completed"
    },
    "tags": []
   },
   "outputs": [],
   "source": [
    "# Predicting the Test set results\n",
    "\n",
    "y_pred = classifier.predict(x_test)\n",
    "print(y_pred)"
   ]
  },
  {
   "cell_type": "code",
   "execution_count": null,
   "metadata": {
    "execution": {
     "iopub.execute_input": "2020-08-20T17:54:24.851148Z",
     "iopub.status.busy": "2020-08-20T17:54:24.850244Z",
     "iopub.status.idle": "2020-08-20T17:54:24.856147Z",
     "shell.execute_reply": "2020-08-20T17:54:24.856716Z"
    },
    "papermill": {
     "duration": 0.046817,
     "end_time": "2020-08-20T17:54:24.856883",
     "exception": false,
     "start_time": "2020-08-20T17:54:24.810066",
     "status": "completed"
    },
    "tags": []
   },
   "outputs": [],
   "source": [
    "# Making the confusion matrix and calculating accuracy score\n",
    "\n",
    "from sklearn.metrics import confusion_matrix, accuracy_score\n",
    "cm = confusion_matrix(y_test, y_pred)\n",
    "ac = accuracy_score(y_test, y_pred)\n",
    "mylist.append(ac)\n",
    "print(cm)\n",
    "print(ac)"
   ]
  },
  {
   "cell_type": "markdown",
   "metadata": {
    "papermill": {
     "duration": 0.033966,
     "end_time": "2020-08-20T17:54:24.924648",
     "exception": false,
     "start_time": "2020-08-20T17:54:24.890682",
     "status": "completed"
    },
    "tags": []
   },
   "source": [
    "----"
   ]
  },
  {
   "cell_type": "markdown",
   "metadata": {
    "papermill": {
     "duration": 0.033652,
     "end_time": "2020-08-20T17:54:24.992487",
     "exception": false,
     "start_time": "2020-08-20T17:54:24.958835",
     "status": "completed"
    },
    "tags": []
   },
   "source": [
    "3. SUPPORT VECTOR CLASSIFIER"
   ]
  },
  {
   "cell_type": "code",
   "execution_count": null,
   "metadata": {
    "execution": {
     "iopub.execute_input": "2020-08-20T17:54:25.069764Z",
     "iopub.status.busy": "2020-08-20T17:54:25.068630Z",
     "iopub.status.idle": "2020-08-20T17:54:25.076798Z",
     "shell.execute_reply": "2020-08-20T17:54:25.075995Z"
    },
    "papermill": {
     "duration": 0.050473,
     "end_time": "2020-08-20T17:54:25.076936",
     "exception": false,
     "start_time": "2020-08-20T17:54:25.026463",
     "status": "completed"
    },
    "tags": []
   },
   "outputs": [],
   "source": [
    "# Training the Support Vector Classifier on the Training set\n",
    "\n",
    "from sklearn.svm import SVC\n",
    "classifier = SVC(random_state=0, kernel = 'rbf')\n",
    "classifier.fit(x_train, y_train)"
   ]
  },
  {
   "cell_type": "code",
   "execution_count": null,
   "metadata": {
    "execution": {
     "iopub.execute_input": "2020-08-20T17:54:25.150752Z",
     "iopub.status.busy": "2020-08-20T17:54:25.149957Z",
     "iopub.status.idle": "2020-08-20T17:54:25.155284Z",
     "shell.execute_reply": "2020-08-20T17:54:25.154539Z"
    },
    "papermill": {
     "duration": 0.044528,
     "end_time": "2020-08-20T17:54:25.155418",
     "exception": false,
     "start_time": "2020-08-20T17:54:25.110890",
     "status": "completed"
    },
    "tags": []
   },
   "outputs": [],
   "source": [
    "# Predicting the test set results\n",
    "\n",
    "y_pred = classifier.predict(x_test)\n",
    "print(y_pred)"
   ]
  },
  {
   "cell_type": "code",
   "execution_count": null,
   "metadata": {
    "execution": {
     "iopub.execute_input": "2020-08-20T17:54:25.233828Z",
     "iopub.status.busy": "2020-08-20T17:54:25.232629Z",
     "iopub.status.idle": "2020-08-20T17:54:25.236863Z",
     "shell.execute_reply": "2020-08-20T17:54:25.237640Z"
    },
    "papermill": {
     "duration": 0.048072,
     "end_time": "2020-08-20T17:54:25.237845",
     "exception": false,
     "start_time": "2020-08-20T17:54:25.189773",
     "status": "completed"
    },
    "tags": []
   },
   "outputs": [],
   "source": [
    "# Making the confusion matrix and calculating accuracy score\n",
    "\n",
    "from sklearn.metrics import confusion_matrix, accuracy_score\n",
    "cm = confusion_matrix(y_test, y_pred)\n",
    "ac = accuracy_score(y_test, y_pred)\n",
    "print(cm)\n",
    "print(ac)\n",
    "mylist.append(ac)"
   ]
  },
  {
   "cell_type": "markdown",
   "metadata": {
    "papermill": {
     "duration": 0.03373,
     "end_time": "2020-08-20T17:54:25.306524",
     "exception": false,
     "start_time": "2020-08-20T17:54:25.272794",
     "status": "completed"
    },
    "tags": []
   },
   "source": [
    "-----"
   ]
  },
  {
   "cell_type": "markdown",
   "metadata": {
    "papermill": {
     "duration": 0.033504,
     "end_time": "2020-08-20T17:54:25.374074",
     "exception": false,
     "start_time": "2020-08-20T17:54:25.340570",
     "status": "completed"
    },
    "tags": []
   },
   "source": [
    "4. DECISION TREE CLASSIFIER"
   ]
  },
  {
   "cell_type": "code",
   "execution_count": null,
   "metadata": {
    "execution": {
     "iopub.execute_input": "2020-08-20T17:54:25.452522Z",
     "iopub.status.busy": "2020-08-20T17:54:25.451738Z",
     "iopub.status.idle": "2020-08-20T17:54:25.623899Z",
     "shell.execute_reply": "2020-08-20T17:54:25.623217Z"
    },
    "papermill": {
     "duration": 0.216084,
     "end_time": "2020-08-20T17:54:25.624047",
     "exception": false,
     "start_time": "2020-08-20T17:54:25.407963",
     "status": "completed"
    },
    "tags": []
   },
   "outputs": [],
   "source": [
    "# Finding the optimum number of max_leaf_nodes\n",
    "\n",
    "from sklearn.tree import DecisionTreeClassifier\n",
    "from sklearn.metrics import confusion_matrix, accuracy_score\n",
    "list1 = []\n",
    "for leaves in range(2,10):\n",
    "    classifier = DecisionTreeClassifier(max_leaf_nodes = leaves, random_state=0, criterion='entropy')\n",
    "    classifier.fit(x_train, y_train)\n",
    "    y_pred = classifier.predict(x_test)\n",
    "    list1.append(accuracy_score(y_test,y_pred))\n",
    "#print(mylist)\n",
    "plt.plot(list(range(2,10)), list1)\n",
    "plt.show()"
   ]
  },
  {
   "cell_type": "code",
   "execution_count": null,
   "metadata": {
    "execution": {
     "iopub.execute_input": "2020-08-20T17:54:25.700346Z",
     "iopub.status.busy": "2020-08-20T17:54:25.699566Z",
     "iopub.status.idle": "2020-08-20T17:54:25.706364Z",
     "shell.execute_reply": "2020-08-20T17:54:25.705754Z"
    },
    "papermill": {
     "duration": 0.047858,
     "end_time": "2020-08-20T17:54:25.706493",
     "exception": false,
     "start_time": "2020-08-20T17:54:25.658635",
     "status": "completed"
    },
    "tags": []
   },
   "outputs": [],
   "source": [
    "# Training the Decision Tree Classifier on the Training set\n",
    "\n",
    "classifier = DecisionTreeClassifier(max_leaf_nodes = 8, random_state=0, criterion='entropy')\n",
    "classifier.fit(x_train, y_train)"
   ]
  },
  {
   "cell_type": "code",
   "execution_count": null,
   "metadata": {
    "execution": {
     "iopub.execute_input": "2020-08-20T17:54:25.782797Z",
     "iopub.status.busy": "2020-08-20T17:54:25.781784Z",
     "iopub.status.idle": "2020-08-20T17:54:25.785395Z",
     "shell.execute_reply": "2020-08-20T17:54:25.786139Z"
    },
    "papermill": {
     "duration": 0.045451,
     "end_time": "2020-08-20T17:54:25.786375",
     "exception": false,
     "start_time": "2020-08-20T17:54:25.740924",
     "status": "completed"
    },
    "tags": []
   },
   "outputs": [],
   "source": [
    "# Predicting the test set results\n",
    "\n",
    "y_pred = classifier.predict(x_test)\n",
    "print(y_pred)"
   ]
  },
  {
   "cell_type": "code",
   "execution_count": null,
   "metadata": {
    "execution": {
     "iopub.execute_input": "2020-08-20T17:54:25.868046Z",
     "iopub.status.busy": "2020-08-20T17:54:25.867019Z",
     "iopub.status.idle": "2020-08-20T17:54:25.870536Z",
     "shell.execute_reply": "2020-08-20T17:54:25.871091Z"
    },
    "papermill": {
     "duration": 0.048653,
     "end_time": "2020-08-20T17:54:25.871249",
     "exception": false,
     "start_time": "2020-08-20T17:54:25.822596",
     "status": "completed"
    },
    "tags": []
   },
   "outputs": [],
   "source": [
    "# Making the confusion matrix and calculating accuracy score\n",
    "\n",
    "from sklearn.metrics import confusion_matrix, accuracy_score\n",
    "cm = confusion_matrix(y_test, y_pred)\n",
    "ac = accuracy_score(y_test, y_pred)\n",
    "print(cm)\n",
    "print(ac)\n",
    "mylist.append(ac)"
   ]
  },
  {
   "cell_type": "markdown",
   "metadata": {
    "papermill": {
     "duration": 0.034675,
     "end_time": "2020-08-20T17:54:25.941503",
     "exception": false,
     "start_time": "2020-08-20T17:54:25.906828",
     "status": "completed"
    },
    "tags": []
   },
   "source": [
    "-----"
   ]
  },
  {
   "cell_type": "markdown",
   "metadata": {
    "papermill": {
     "duration": 0.03517,
     "end_time": "2020-08-20T17:54:26.011875",
     "exception": false,
     "start_time": "2020-08-20T17:54:25.976705",
     "status": "completed"
    },
    "tags": []
   },
   "source": [
    "5. RANDOM FOREST CLASSIFCATION"
   ]
  },
  {
   "cell_type": "code",
   "execution_count": null,
   "metadata": {
    "execution": {
     "iopub.execute_input": "2020-08-20T17:54:26.093693Z",
     "iopub.status.busy": "2020-08-20T17:54:26.092871Z",
     "iopub.status.idle": "2020-08-20T17:54:26.599237Z",
     "shell.execute_reply": "2020-08-20T17:54:26.598526Z"
    },
    "papermill": {
     "duration": 0.551805,
     "end_time": "2020-08-20T17:54:26.599382",
     "exception": false,
     "start_time": "2020-08-20T17:54:26.047577",
     "status": "completed"
    },
    "tags": []
   },
   "outputs": [],
   "source": [
    "#Finding the optimum number of n_estimators\n",
    "\n",
    "from sklearn.ensemble import RandomForestClassifier\n",
    "from sklearn.metrics import confusion_matrix, accuracy_score\n",
    "list1 = []\n",
    "for estimators in range(10,20):\n",
    "    classifier = RandomForestClassifier(n_estimators = estimators, random_state=0, criterion='gini')\n",
    "    classifier.fit(x_train, y_train)\n",
    "    y_pred = classifier.predict(x_test)\n",
    "    list1.append(accuracy_score(y_test,y_pred))\n",
    "#print(mylist)\n",
    "plt.plot(list(range(10,20)), list1)\n",
    "plt.show()"
   ]
  },
  {
   "cell_type": "code",
   "execution_count": null,
   "metadata": {
    "execution": {
     "iopub.execute_input": "2020-08-20T17:54:26.682669Z",
     "iopub.status.busy": "2020-08-20T17:54:26.677251Z",
     "iopub.status.idle": "2020-08-20T17:54:26.715001Z",
     "shell.execute_reply": "2020-08-20T17:54:26.714290Z"
    },
    "papermill": {
     "duration": 0.080745,
     "end_time": "2020-08-20T17:54:26.715126",
     "exception": false,
     "start_time": "2020-08-20T17:54:26.634381",
     "status": "completed"
    },
    "tags": []
   },
   "outputs": [],
   "source": [
    "# Training the RandomForest Classifier on the Training set\n",
    "\n",
    "from sklearn.ensemble import RandomForestClassifier\n",
    "classifier = RandomForestClassifier(n_estimators = 13, criterion='gini', random_state=0)\n",
    "classifier.fit(x_train,y_train)"
   ]
  },
  {
   "cell_type": "code",
   "execution_count": null,
   "metadata": {
    "execution": {
     "iopub.execute_input": "2020-08-20T17:54:26.793390Z",
     "iopub.status.busy": "2020-08-20T17:54:26.792369Z",
     "iopub.status.idle": "2020-08-20T17:54:26.798612Z",
     "shell.execute_reply": "2020-08-20T17:54:26.797606Z"
    },
    "papermill": {
     "duration": 0.048288,
     "end_time": "2020-08-20T17:54:26.798783",
     "exception": false,
     "start_time": "2020-08-20T17:54:26.750495",
     "status": "completed"
    },
    "tags": []
   },
   "outputs": [],
   "source": [
    "# Predicting the test set results\n",
    "\n",
    "y_pred = classifier.predict(x_test)\n",
    "print(y_pred)"
   ]
  },
  {
   "cell_type": "code",
   "execution_count": null,
   "metadata": {
    "execution": {
     "iopub.execute_input": "2020-08-20T17:54:26.880722Z",
     "iopub.status.busy": "2020-08-20T17:54:26.879756Z",
     "iopub.status.idle": "2020-08-20T17:54:26.884115Z",
     "shell.execute_reply": "2020-08-20T17:54:26.883340Z"
    },
    "papermill": {
     "duration": 0.049084,
     "end_time": "2020-08-20T17:54:26.884244",
     "exception": false,
     "start_time": "2020-08-20T17:54:26.835160",
     "status": "completed"
    },
    "tags": []
   },
   "outputs": [],
   "source": [
    "# Making the confusion matrix and calculating the accuracy score\n",
    "\n",
    "from sklearn.metrics import confusion_matrix, accuracy_score\n",
    "cm = confusion_matrix(y_test, y_pred)\n",
    "ac = accuracy_score(y_test, y_pred)\n",
    "mylist.append(ac)\n",
    "print(cm)\n",
    "print(ac)"
   ]
  },
  {
   "cell_type": "markdown",
   "metadata": {
    "papermill": {
     "duration": 0.035643,
     "end_time": "2020-08-20T17:54:26.955782",
     "exception": false,
     "start_time": "2020-08-20T17:54:26.920139",
     "status": "completed"
    },
    "tags": []
   },
   "source": [
    "----"
   ]
  },
  {
   "cell_type": "markdown",
   "metadata": {
    "papermill": {
     "duration": 0.036788,
     "end_time": "2020-08-20T17:54:27.028792",
     "exception": false,
     "start_time": "2020-08-20T17:54:26.992004",
     "status": "completed"
    },
    "tags": []
   },
   "source": [
    "6. ANN"
   ]
  },
  {
   "cell_type": "code",
   "execution_count": null,
   "metadata": {
    "execution": {
     "iopub.execute_input": "2020-08-20T17:54:27.108480Z",
     "iopub.status.busy": "2020-08-20T17:54:27.107711Z",
     "iopub.status.idle": "2020-08-20T17:54:32.679614Z",
     "shell.execute_reply": "2020-08-20T17:54:32.678927Z"
    },
    "papermill": {
     "duration": 5.61439,
     "end_time": "2020-08-20T17:54:32.679746",
     "exception": false,
     "start_time": "2020-08-20T17:54:27.065356",
     "status": "completed"
    },
    "tags": []
   },
   "outputs": [],
   "source": [
    "np.random.seed(0)\n",
    "import tensorflow as tf\n",
    "\n",
    "# Initialising the ANN\n",
    "\n",
    "ann = tf.keras.models.Sequential()"
   ]
  },
  {
   "cell_type": "code",
   "execution_count": null,
   "metadata": {
    "execution": {
     "iopub.execute_input": "2020-08-20T17:54:32.761732Z",
     "iopub.status.busy": "2020-08-20T17:54:32.760978Z",
     "iopub.status.idle": "2020-08-20T17:54:32.764765Z",
     "shell.execute_reply": "2020-08-20T17:54:32.764092Z"
    },
    "papermill": {
     "duration": 0.049303,
     "end_time": "2020-08-20T17:54:32.764895",
     "exception": false,
     "start_time": "2020-08-20T17:54:32.715592",
     "status": "completed"
    },
    "tags": []
   },
   "outputs": [],
   "source": [
    "# Adding the input layer and the first hidden layer\n",
    "\n",
    "ann.add(tf.keras.layers.Dense(units = 7, activation = 'relu'))"
   ]
  },
  {
   "cell_type": "code",
   "execution_count": null,
   "metadata": {
    "execution": {
     "iopub.execute_input": "2020-08-20T17:54:32.844147Z",
     "iopub.status.busy": "2020-08-20T17:54:32.843398Z",
     "iopub.status.idle": "2020-08-20T17:54:32.846909Z",
     "shell.execute_reply": "2020-08-20T17:54:32.846309Z"
    },
    "papermill": {
     "duration": 0.046148,
     "end_time": "2020-08-20T17:54:32.847040",
     "exception": false,
     "start_time": "2020-08-20T17:54:32.800892",
     "status": "completed"
    },
    "tags": []
   },
   "outputs": [],
   "source": [
    "# Adding the second hidden layer\n",
    "\n",
    "ann.add(tf.keras.layers.Dense(units = 7, activation = 'relu'))"
   ]
  },
  {
   "cell_type": "code",
   "execution_count": null,
   "metadata": {
    "execution": {
     "iopub.execute_input": "2020-08-20T17:54:32.928542Z",
     "iopub.status.busy": "2020-08-20T17:54:32.927649Z",
     "iopub.status.idle": "2020-08-20T17:54:32.930113Z",
     "shell.execute_reply": "2020-08-20T17:54:32.930713Z"
    },
    "papermill": {
     "duration": 0.047211,
     "end_time": "2020-08-20T17:54:32.930878",
     "exception": false,
     "start_time": "2020-08-20T17:54:32.883667",
     "status": "completed"
    },
    "tags": []
   },
   "outputs": [],
   "source": [
    "# Adding the third hidden layer\n",
    "\n",
    "ann.add(tf.keras.layers.Dense(units = 7, activation = 'relu'))"
   ]
  },
  {
   "cell_type": "code",
   "execution_count": null,
   "metadata": {
    "execution": {
     "iopub.execute_input": "2020-08-20T17:54:33.011943Z",
     "iopub.status.busy": "2020-08-20T17:54:33.010676Z",
     "iopub.status.idle": "2020-08-20T17:54:33.014793Z",
     "shell.execute_reply": "2020-08-20T17:54:33.013996Z"
    },
    "papermill": {
     "duration": 0.047968,
     "end_time": "2020-08-20T17:54:33.014929",
     "exception": false,
     "start_time": "2020-08-20T17:54:32.966961",
     "status": "completed"
    },
    "tags": []
   },
   "outputs": [],
   "source": [
    "# Adding the fourth hidden layer\n",
    "\n",
    "ann.add(tf.keras.layers.Dense(units = 7, activation = 'relu'))"
   ]
  },
  {
   "cell_type": "code",
   "execution_count": null,
   "metadata": {
    "execution": {
     "iopub.execute_input": "2020-08-20T17:54:33.097978Z",
     "iopub.status.busy": "2020-08-20T17:54:33.097221Z",
     "iopub.status.idle": "2020-08-20T17:54:33.100642Z",
     "shell.execute_reply": "2020-08-20T17:54:33.100037Z"
    },
    "papermill": {
     "duration": 0.047751,
     "end_time": "2020-08-20T17:54:33.100779",
     "exception": false,
     "start_time": "2020-08-20T17:54:33.053028",
     "status": "completed"
    },
    "tags": []
   },
   "outputs": [],
   "source": [
    "# Adding the output layer\n",
    "\n",
    "ann.add(tf.keras.layers.Dense(units = 1, activation = 'sigmoid'))"
   ]
  },
  {
   "cell_type": "code",
   "execution_count": null,
   "metadata": {
    "execution": {
     "iopub.execute_input": "2020-08-20T17:54:33.188314Z",
     "iopub.status.busy": "2020-08-20T17:54:33.187500Z",
     "iopub.status.idle": "2020-08-20T17:54:33.197482Z",
     "shell.execute_reply": "2020-08-20T17:54:33.196674Z"
    },
    "papermill": {
     "duration": 0.059475,
     "end_time": "2020-08-20T17:54:33.197625",
     "exception": false,
     "start_time": "2020-08-20T17:54:33.138150",
     "status": "completed"
    },
    "tags": []
   },
   "outputs": [],
   "source": [
    "# Compiling the ANN\n",
    "\n",
    "ann.compile(optimizer = 'adam', loss = 'binary_crossentropy' , metrics = ['accuracy'] )"
   ]
  },
  {
   "cell_type": "code",
   "execution_count": null,
   "metadata": {
    "execution": {
     "iopub.execute_input": "2020-08-20T17:54:33.278778Z",
     "iopub.status.busy": "2020-08-20T17:54:33.277988Z",
     "iopub.status.idle": "2020-08-20T17:54:35.788639Z",
     "shell.execute_reply": "2020-08-20T17:54:35.787960Z"
    },
    "papermill": {
     "duration": 2.553538,
     "end_time": "2020-08-20T17:54:35.788779",
     "exception": false,
     "start_time": "2020-08-20T17:54:33.235241",
     "status": "completed"
    },
    "tags": []
   },
   "outputs": [],
   "source": [
    "# Training the ANN on the training set\n",
    "\n",
    "ann.fit(x_train, y_train, batch_size = 32, epochs = 100)"
   ]
  },
  {
   "cell_type": "code",
   "execution_count": null,
   "metadata": {
    "execution": {
     "iopub.execute_input": "2020-08-20T17:54:35.903990Z",
     "iopub.status.busy": "2020-08-20T17:54:35.899577Z",
     "iopub.status.idle": "2020-08-20T17:54:36.043790Z",
     "shell.execute_reply": "2020-08-20T17:54:36.044373Z"
    },
    "papermill": {
     "duration": 0.200983,
     "end_time": "2020-08-20T17:54:36.044541",
     "exception": false,
     "start_time": "2020-08-20T17:54:35.843558",
     "status": "completed"
    },
    "tags": []
   },
   "outputs": [],
   "source": [
    "# Predicting the test set results\n",
    "\n",
    "y_pred = ann.predict(x_test)\n",
    "y_pred = (y_pred > 0.5)\n",
    "np.set_printoptions()\n",
    "print(np.concatenate( (y_pred.reshape(len(y_pred),1), y_test.reshape(len(y_test),1)),1)) "
   ]
  },
  {
   "cell_type": "code",
   "execution_count": null,
   "metadata": {
    "execution": {
     "iopub.execute_input": "2020-08-20T17:54:36.181317Z",
     "iopub.status.busy": "2020-08-20T17:54:36.180210Z",
     "iopub.status.idle": "2020-08-20T17:54:36.184534Z",
     "shell.execute_reply": "2020-08-20T17:54:36.183850Z"
    },
    "papermill": {
     "duration": 0.070306,
     "end_time": "2020-08-20T17:54:36.184674",
     "exception": false,
     "start_time": "2020-08-20T17:54:36.114368",
     "status": "completed"
    },
    "tags": []
   },
   "outputs": [],
   "source": [
    "# Making the confusion matrix, calculating accuracy_score and generating classification report\n",
    "\n",
    "from sklearn.metrics import confusion_matrix, accuracy_score\n",
    "\n",
    "# confusion matrix\n",
    "cm = confusion_matrix(y_test,y_pred)\n",
    "print(\"Confusion Matrix\")\n",
    "print(cm)\n",
    "print()\n",
    "\n",
    "# accuracy\n",
    "ac = accuracy_score(y_test,y_pred)\n",
    "print(\"Accuracy\")\n",
    "print(ac)\n",
    "mylist.append(ac)"
   ]
  },
  {
   "cell_type": "markdown",
   "metadata": {
    "papermill": {
     "duration": 0.053877,
     "end_time": "2020-08-20T17:54:36.292289",
     "exception": false,
     "start_time": "2020-08-20T17:54:36.238412",
     "status": "completed"
    },
    "tags": []
   },
   "source": [
    "-----"
   ]
  },
  {
   "cell_type": "code",
   "execution_count": null,
   "metadata": {
    "execution": {
     "iopub.execute_input": "2020-08-20T17:54:36.404085Z",
     "iopub.status.busy": "2020-08-20T17:54:36.403136Z",
     "iopub.status.idle": "2020-08-20T17:54:36.408380Z",
     "shell.execute_reply": "2020-08-20T17:54:36.407623Z"
    },
    "papermill": {
     "duration": 0.063168,
     "end_time": "2020-08-20T17:54:36.408508",
     "exception": false,
     "start_time": "2020-08-20T17:54:36.345340",
     "status": "completed"
    },
    "tags": []
   },
   "outputs": [],
   "source": [
    "# Plotting accuracy score of different models\n",
    "mylist"
   ]
  },
  {
   "cell_type": "code",
   "execution_count": null,
   "metadata": {
    "execution": {
     "iopub.execute_input": "2020-08-20T17:54:36.520890Z",
     "iopub.status.busy": "2020-08-20T17:54:36.520034Z",
     "iopub.status.idle": "2020-08-20T17:54:36.523784Z",
     "shell.execute_reply": "2020-08-20T17:54:36.522988Z"
    },
    "papermill": {
     "duration": 0.062521,
     "end_time": "2020-08-20T17:54:36.523915",
     "exception": false,
     "start_time": "2020-08-20T17:54:36.461394",
     "status": "completed"
    },
    "tags": []
   },
   "outputs": [],
   "source": [
    "mylist2 = [\"Logistic Regression\", \"KNearestNeighbours\",\"SupportVector\",\"DecisionTree\",\"RandomForest\",\"ANN\"]"
   ]
  },
  {
   "cell_type": "code",
   "execution_count": null,
   "metadata": {
    "execution": {
     "iopub.execute_input": "2020-08-20T17:54:36.648621Z",
     "iopub.status.busy": "2020-08-20T17:54:36.645802Z",
     "iopub.status.idle": "2020-08-20T17:54:36.923139Z",
     "shell.execute_reply": "2020-08-20T17:54:36.923902Z"
    },
    "papermill": {
     "duration": 0.346505,
     "end_time": "2020-08-20T17:54:36.924077",
     "exception": false,
     "start_time": "2020-08-20T17:54:36.577572",
     "status": "completed"
    },
    "tags": []
   },
   "outputs": [],
   "source": [
    "plt.rcParams['figure.figsize']=15,6 \n",
    "sns.set_style(\"darkgrid\")\n",
    "ax = sns.barplot(x=mylist2, y=mylist, palette = \"rocket\", saturation =1.5)\n",
    "plt.xlabel(\"Classifier Models\", fontsize = 20 )\n",
    "plt.ylabel(\"% of Accuracy\", fontsize = 20)\n",
    "plt.title(\"Accuracy of different Classifier Models\", fontsize = 20)\n",
    "plt.xticks(fontsize = 12, horizontalalignment = 'center', rotation = 8)\n",
    "plt.yticks(fontsize = 13)\n",
    "for p in ax.patches:\n",
    "    width, height = p.get_width(), p.get_height()\n",
    "    x, y = p.get_xy() \n",
    "    ax.annotate(f'{height:.2%}', (x + width/2, y + height*1.02), ha='center', fontsize = 'x-large')\n",
    "plt.show()"
   ]
  }
 ],
 "metadata": {
  "kernelspec": {
   "display_name": "Python 3",
   "language": "python",
   "name": "python3"
  },
  "language_info": {
   "codemirror_mode": {
    "name": "ipython",
    "version": 3
   },
   "file_extension": ".py",
   "mimetype": "text/x-python",
   "name": "python",
   "nbconvert_exporter": "python",
   "pygments_lexer": "ipython3",
   "version": "3.7.4"
  },
  "papermill": {
   "duration": 25.796054,
   "end_time": "2020-08-20T17:54:37.088918",
   "environment_variables": {},
   "exception": null,
   "input_path": "__notebook__.ipynb",
   "output_path": "__notebook__.ipynb",
   "parameters": {},
   "start_time": "2020-08-20T17:54:11.292864",
   "version": "2.1.0"
  }
 },
 "nbformat": 4,
 "nbformat_minor": 4
}
